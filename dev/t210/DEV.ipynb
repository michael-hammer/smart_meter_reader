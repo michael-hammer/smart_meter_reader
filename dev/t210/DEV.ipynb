{
 "cells": [
  {
   "cell_type": "code",
   "execution_count": 1,
   "metadata": {},
   "outputs": [],
   "source": [
    "%load_ext autoreload\n",
    "%autoreload 2"
   ]
  },
  {
   "cell_type": "code",
   "execution_count": 2,
   "metadata": {},
   "outputs": [],
   "source": [
    "from messages import messages\n",
    "from binascii import unhexlify"
   ]
  },
  {
   "cell_type": "code",
   "execution_count": 3,
   "metadata": {},
   "outputs": [],
   "source": [
    "msg = messages[4]"
   ]
  },
  {
   "cell_type": "code",
   "execution_count": 123,
   "metadata": {},
   "outputs": [
    {
     "name": "stdout",
     "output_type": "stream",
     "text": [
      "Start 0xdb\n",
      "Length system title: 8\n",
      "System title b'SAG5\\x00\\x01\\xd1\\x7f'\n",
      "Separator 0x82\n",
      "Length 498\n",
      "Separator: 0x30\n",
      "Frame counter: 5731\n",
      "GCM Tag: 44fa2040d4887b71a19fe5a5\n"
     ]
    }
   ],
   "source": [
    "# split content\n",
    "structure = {\n",
    "    'start byte': 2,\n",
    "    'LENGTH system title': 0,\n",
    "    'system title': 8,\n",
    "    'seperator': 1,\n",
    "    'LENGTH of subsequent bytes': 0,\n",
    "}\n",
    "\n",
    "start = 0\n",
    "end = 2\n",
    "print(f\"Start 0x{msg[start:end]}\")\n",
    "\n",
    "start = end\n",
    "end = start + 2\n",
    "l_system_title = int(msg[start:end], 16)\n",
    "print(f\"Length system title: {l_system_title}\")\n",
    "\n",
    "# System Title:\n",
    "start = end\n",
    "end = start + l_system_title*2\n",
    "system_title = msg[start:end]\n",
    "print(f\"System title {unhexlify(system_title)}\")\n",
    "\n",
    "start = end\n",
    "end = start + 2\n",
    "print(f\"Separator 0x{msg[start:end]}\")\n",
    "\n",
    "# Data length\n",
    "start = end\n",
    "end = start + 4\n",
    "l_data = int(msg[start:end], 16)\n",
    "print(f\"Length {l_data}\")\n",
    "\n",
    "# seperator 0x30\n",
    "start = end\n",
    "end = start + 2\n",
    "print(f\"Separator: 0x{msg[start:end]}\")\n",
    "\n",
    "# frame counter\n",
    "start = end\n",
    "end = start + 4*2\n",
    "frame_counter = msg[start:end]\n",
    "print(f\"Frame counter: {int(frame_counter,16)}\")\n",
    "\n",
    "# cipher frame\n",
    "start = end\n",
    "end = start + 2*(l_data - 5 - 12)\n",
    "frame = msg[start:end]\n",
    "\n",
    "# GCM TAG\n",
    "start = end\n",
    "end = start + 12*2\n",
    "gcm_tag = msg[start:end]\n",
    "print(f\"GCM Tag: {gcm_tag}\")"
   ]
  },
  {
   "cell_type": "code",
   "execution_count": 124,
   "metadata": {},
   "outputs": [],
   "source": [
    "from Crypto.Cipher import AES\n",
    "\n",
    "encryption_key = unhexlify(\"98B362EF72DC06043829C1AAE16A6562\")\n",
    "init_vector = unhexlify(system_title + frame_counter)\n",
    "cipher = AES.new(encryption_key, AES.MODE_GCM, nonce=init_vector)"
   ]
  },
  {
   "cell_type": "code",
   "execution_count": 125,
   "metadata": {},
   "outputs": [
    {
     "name": "stdout",
     "output_type": "stream",
     "text": [
      "b'/EST5\\\\253740976_A\\r\\n\\r\\n1-3:0.2.8(50)\\r\\n0-0:1.0.0(220815084916S)\\r\\n1-0:1.8.0(008995832*Wh)\\r\\n1-0:1.8.1(007130300*Wh)\\r\\n1-0:1.8.2(001865532*Wh)\\r\\n1-0:1.7.0(000000465*W)\\r\\n1-0:2.8.0(000000112*Wh)\\r\\n1-0:2.8.1(000000000*Wh)\\r\\n1-0:2.8.2(000000112*Wh)\\r\\n1-0:2.7.0(000000000*W)\\r\\n1-0:3.8.0(000030668*varh)\\r\\n1-0:3.8.1(000028978*varh)\\r\\n1-0:3.8.2(000001690*varh)\\r\\n1-0:3.7.0(000000036*var)\\r\\n1-0:4.8.0(004045755*varh)\\r\\n1-0:4.8.1(002828123*varh)\\r\\n1-0:4.8.2(001217632*varh)\\r\\n1-0:4.7.0(000000250*var)\\r\\n!B766\\r\\n'\n"
     ]
    }
   ],
   "source": [
    "bframe = unhexlify(frame)\n",
    "apdu_complete = cipher.decrypt(bframe)\n",
    "apdu = apdu_complete#.split(b'!')[0]\n",
    "print(apdu)"
   ]
  },
  {
   "cell_type": "code",
   "execution_count": 21,
   "metadata": {},
   "outputs": [],
   "source": [
    "from dsmr_parser.parsers import TelegramParser\n",
    "from dsmr_parser.objects import Telegram\n",
    "from dsmr_parser import telegram_specifications\n",
    "from messages import telegrams"
   ]
  },
  {
   "cell_type": "code",
   "execution_count": 36,
   "metadata": {},
   "outputs": [],
   "source": [
    "parser = TelegramParser(telegram_specifications.V5)"
   ]
  },
  {
   "cell_type": "code",
   "execution_count": 37,
   "metadata": {},
   "outputs": [
    {
     "name": "stdout",
     "output_type": "stream",
     "text": [
      "P1_MESSAGE_HEADER: \t 50\t[None]\n",
      "P1_MESSAGE_TIMESTAMP: \t 2022-08-21T16:54:23+02:00\t[None]\n",
      "ELECTRICITY_IMPORTED_TOTAL: \t 9053098\t[Wh]\n",
      "ELECTRICITY_USED_TARIFF_1: \t 7173764\t[Wh]\n",
      "ELECTRICITY_USED_TARIFF_2: \t 1879334\t[Wh]\n",
      "ELECTRICITY_DELIVERED_TARIFF_1: \t 0\t[Wh]\n",
      "ELECTRICITY_DELIVERED_TARIFF_2: \t 112\t[Wh]\n",
      "CURRENT_ELECTRICITY_USAGE: \t 413\t[W]\n",
      "CURRENT_ELECTRICITY_DELIVERY: \t 0\t[W]\n",
      "\n"
     ]
    }
   ],
   "source": [
    "t = Telegram(telegrams[0].decode('ASCII'), parser ,telegram_specifications.V5 )\n",
    "print(t)"
   ]
  },
  {
   "cell_type": "code",
   "execution_count": 19,
   "metadata": {},
   "outputs": [
    {
     "name": "stdout",
     "output_type": "stream",
     "text": [
      "{'\\\\d-\\\\d:1\\\\.8\\\\.1.+?\\\\r\\\\n': <dsmr_parser.objects.CosemObject object at 0x10a8cbc70>, '\\\\d-\\\\d:1\\\\.8\\\\.2.+?\\\\r\\\\n': <dsmr_parser.objects.CosemObject object at 0x10a8d7970>, '\\\\d-\\\\d:2\\\\.8\\\\.1.+?\\\\r\\\\n': <dsmr_parser.objects.CosemObject object at 0x10a8d6b30>, '\\\\d-\\\\d:2\\\\.8\\\\.2.+?\\\\r\\\\n': <dsmr_parser.objects.CosemObject object at 0x10a8d7a90>, '\\\\d-\\\\d:1\\\\.7\\\\.0.+?\\\\r\\\\n': <dsmr_parser.objects.CosemObject object at 0x10a8d4850>, '\\\\d-\\\\d:2\\\\.7\\\\.0.+?\\\\r\\\\n': <dsmr_parser.objects.CosemObject object at 0x10a8d79d0>}\n"
     ]
    },
    {
     "ename": "AttributeError",
     "evalue": "'CosemObject' object has no attribute 'parse'",
     "output_type": "error",
     "traceback": [
      "\u001b[0;31m---------------------------------------------------------------------------\u001b[0m",
      "\u001b[0;31mAttributeError\u001b[0m                            Traceback (most recent call last)",
      "\u001b[1;32m/Users/mueli/VCS/gitlab/smart_meter/DEV.ipynb Cell 9\u001b[0m in \u001b[0;36m<cell line: 3>\u001b[0;34m()\u001b[0m\n\u001b[1;32m      <a href='vscode-notebook-cell:/Users/mueli/VCS/gitlab/smart_meter/DEV.ipynb#X10sZmlsZQ%3D%3D?line=1'>2</a>\u001b[0m \u001b[39mprint\u001b[39m(tg)\n\u001b[1;32m      <a href='vscode-notebook-cell:/Users/mueli/VCS/gitlab/smart_meter/DEV.ipynb#X10sZmlsZQ%3D%3D?line=2'>3</a>\u001b[0m \u001b[39mfor\u001b[39;00m key \u001b[39min\u001b[39;00m tg:\n\u001b[0;32m----> <a href='vscode-notebook-cell:/Users/mueli/VCS/gitlab/smart_meter/DEV.ipynb#X10sZmlsZQ%3D%3D?line=3'>4</a>\u001b[0m     t \u001b[39m=\u001b[39m Telegram(parser, tg[key],telegram_specifications\u001b[39m.\u001b[39;49mV2_2 )\n\u001b[1;32m      <a href='vscode-notebook-cell:/Users/mueli/VCS/gitlab/smart_meter/DEV.ipynb#X10sZmlsZQ%3D%3D?line=4'>5</a>\u001b[0m     \u001b[39mprint\u001b[39m(t)\n",
      "File \u001b[0;32m~/Library/Caches/pypoetry/virtualenvs/read-p1-6bszsE-j-py3.10/lib/python3.10/site-packages/dsmr_parser/objects.py:33\u001b[0m, in \u001b[0;36mTelegram.__init__\u001b[0;34m(self, telegram_data, telegram_parser, telegram_specification)\u001b[0m\n\u001b[1;32m     31\u001b[0m \u001b[39mself\u001b[39m\u001b[39m.\u001b[39m_obis_name_mapping \u001b[39m=\u001b[39m dsmr_parser\u001b[39m.\u001b[39mobis_name_mapping\u001b[39m.\u001b[39mEN\n\u001b[1;32m     32\u001b[0m \u001b[39mself\u001b[39m\u001b[39m.\u001b[39m_reverse_obis_name_mapping \u001b[39m=\u001b[39m dsmr_parser\u001b[39m.\u001b[39mobis_name_mapping\u001b[39m.\u001b[39mREVERSE_EN\n\u001b[0;32m---> 33\u001b[0m \u001b[39mself\u001b[39m\u001b[39m.\u001b[39m_dictionary \u001b[39m=\u001b[39m \u001b[39mself\u001b[39;49m\u001b[39m.\u001b[39;49m_telegram_parser\u001b[39m.\u001b[39;49mparse(telegram_data)\n\u001b[1;32m     34\u001b[0m \u001b[39mself\u001b[39m\u001b[39m.\u001b[39m_item_names \u001b[39m=\u001b[39m \u001b[39mself\u001b[39m\u001b[39m.\u001b[39m_get_item_names()\n",
      "\u001b[0;31mAttributeError\u001b[0m: 'CosemObject' object has no attribute 'parse'"
     ]
    }
   ],
   "source": [
    "tg = parser.parse(telegrams[0].decode('ASCII'))\n",
    "print(tg)\n",
    "for key in tg:\n",
    "    t = Telegram(parser, tg[key],telegram_specifications.V2_2 )\n",
    "    print(t)"
   ]
  },
  {
   "cell_type": "code",
   "execution_count": null,
   "metadata": {},
   "outputs": [],
   "source": []
  }
 ],
 "metadata": {
  "kernelspec": {
   "display_name": "Python 3.9.2 ('read-p1-eXDXzb1C-py3.9')",
   "language": "python",
   "name": "python3"
  },
  "language_info": {
   "codemirror_mode": {
    "name": "ipython",
    "version": 3
   },
   "file_extension": ".py",
   "mimetype": "text/x-python",
   "name": "python",
   "nbconvert_exporter": "python",
   "pygments_lexer": "ipython3",
   "version": "3.9.2"
  },
  "orig_nbformat": 4,
  "vscode": {
   "interpreter": {
    "hash": "3abb1ffd9c43949348be10e1ca18e780b8e7b3dbdcd39d56477a4a531b3f817a"
   }
  }
 },
 "nbformat": 4,
 "nbformat_minor": 2
}
